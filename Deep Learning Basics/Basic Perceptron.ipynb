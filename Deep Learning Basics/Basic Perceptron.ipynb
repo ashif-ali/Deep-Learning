{
 "cells": [
  {
   "cell_type": "code",
   "execution_count": 3,
   "metadata": {},
   "outputs": [
    {
     "data": {
      "text/plain": [
       "False"
      ]
     },
     "execution_count": 3,
     "metadata": {},
     "output_type": "execute_result"
    }
   ],
   "source": [
    "x1, x2, w1, w2, b = 4, 1, 2, 9, -22\n",
    "\n",
    "x1*w1 + x2*w2 + b >= 0"
   ]
  },
  {
   "cell_type": "code",
   "execution_count": 3,
   "metadata": {},
   "outputs": [
    {
     "data": {
      "text/plain": [
       "-5"
      ]
     },
     "execution_count": 3,
     "metadata": {},
     "output_type": "execute_result"
    }
   ],
   "source": [
    "import numpy as np\n",
    "\n",
    "def perceptron(x, W, b):\n",
    "    return np.matmul(x, W) + b \n",
    "\n",
    "x = [4, 1]\n",
    "W = [2, 9]\n",
    "b = -22\n",
    "\n",
    "pi = 3.14\n",
    "perceptron(x, W, b)\n"
   ]
  },
  {
   "cell_type": "code",
   "execution_count": 3,
   "metadata": {},
   "outputs": [],
   "source": [
    "# def perceptron(x, W, b):\n",
    "#     return np.matmul(x, W) + b \n",
    "\n",
    "def perceptronStep(X, y, w, b, lr):\n",
    "    for i in range(len(X[0])):\n",
    "        y_hat = perceptron(X[i], w, b)\n",
    "\n",
    "        if y[i] - y_hat == 1:\n",
    "            W[0] += X[i][0] * lr\n",
    "            W[1] += X[i][1] * lr\n",
    "            b+=lr\n",
    "        if y[i] - y_hat == -1:\n",
    "            W[0] -= X[i][0] * lr\n",
    "            W[1] -= X[i][1] * lr\n",
    "            b-=lr\n",
    "    return w, b\n",
    "\n"
   ]
  },
  {
   "cell_type": "code",
   "execution_count": null,
   "metadata": {},
   "outputs": [],
   "source": []
  }
 ],
 "metadata": {
  "kernelspec": {
   "display_name": "Python 3",
   "language": "python",
   "name": "python3"
  },
  "language_info": {
   "codemirror_mode": {
    "name": "ipython",
    "version": 3
   },
   "file_extension": ".py",
   "mimetype": "text/x-python",
   "name": "python",
   "nbconvert_exporter": "python",
   "pygments_lexer": "ipython3",
   "version": "3.11.4"
  }
 },
 "nbformat": 4,
 "nbformat_minor": 2
}
