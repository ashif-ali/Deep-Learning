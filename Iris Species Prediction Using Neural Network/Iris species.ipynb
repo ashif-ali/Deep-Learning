{
 "cells": [
  {
   "cell_type": "code",
   "execution_count": 20,
   "metadata": {},
   "outputs": [],
   "source": [
    "import numpy as np\n",
    "import pandas as pd"
   ]
  },
  {
   "cell_type": "code",
   "execution_count": 21,
   "metadata": {},
   "outputs": [
    {
     "data": {
      "text/html": [
       "<div>\n",
       "<style scoped>\n",
       "    .dataframe tbody tr th:only-of-type {\n",
       "        vertical-align: middle;\n",
       "    }\n",
       "\n",
       "    .dataframe tbody tr th {\n",
       "        vertical-align: top;\n",
       "    }\n",
       "\n",
       "    .dataframe thead th {\n",
       "        text-align: right;\n",
       "    }\n",
       "</style>\n",
       "<table border=\"1\" class=\"dataframe\">\n",
       "  <thead>\n",
       "    <tr style=\"text-align: right;\">\n",
       "      <th></th>\n",
       "      <th>Id</th>\n",
       "      <th>SepalLengthCm</th>\n",
       "      <th>SepalWidthCm</th>\n",
       "      <th>PetalLengthCm</th>\n",
       "      <th>PetalWidthCm</th>\n",
       "      <th>Species</th>\n",
       "    </tr>\n",
       "  </thead>\n",
       "  <tbody>\n",
       "    <tr>\n",
       "      <th>0</th>\n",
       "      <td>79</td>\n",
       "      <td>6.0</td>\n",
       "      <td>2.9</td>\n",
       "      <td>4.5</td>\n",
       "      <td>1.5</td>\n",
       "      <td>Iris-versicolor</td>\n",
       "    </tr>\n",
       "    <tr>\n",
       "      <th>1</th>\n",
       "      <td>107</td>\n",
       "      <td>4.9</td>\n",
       "      <td>2.5</td>\n",
       "      <td>4.5</td>\n",
       "      <td>1.7</td>\n",
       "      <td>Iris-virginica</td>\n",
       "    </tr>\n",
       "    <tr>\n",
       "      <th>2</th>\n",
       "      <td>69</td>\n",
       "      <td>6.2</td>\n",
       "      <td>2.2</td>\n",
       "      <td>4.5</td>\n",
       "      <td>1.5</td>\n",
       "      <td>Iris-versicolor</td>\n",
       "    </tr>\n",
       "    <tr>\n",
       "      <th>3</th>\n",
       "      <td>10</td>\n",
       "      <td>4.9</td>\n",
       "      <td>3.1</td>\n",
       "      <td>1.5</td>\n",
       "      <td>0.1</td>\n",
       "      <td>Iris-setosa</td>\n",
       "    </tr>\n",
       "    <tr>\n",
       "      <th>4</th>\n",
       "      <td>27</td>\n",
       "      <td>5.0</td>\n",
       "      <td>3.4</td>\n",
       "      <td>1.6</td>\n",
       "      <td>0.4</td>\n",
       "      <td>Iris-setosa</td>\n",
       "    </tr>\n",
       "    <tr>\n",
       "      <th>...</th>\n",
       "      <td>...</td>\n",
       "      <td>...</td>\n",
       "      <td>...</td>\n",
       "      <td>...</td>\n",
       "      <td>...</td>\n",
       "      <td>...</td>\n",
       "    </tr>\n",
       "    <tr>\n",
       "      <th>145</th>\n",
       "      <td>83</td>\n",
       "      <td>5.8</td>\n",
       "      <td>2.7</td>\n",
       "      <td>3.9</td>\n",
       "      <td>1.2</td>\n",
       "      <td>Iris-versicolor</td>\n",
       "    </tr>\n",
       "    <tr>\n",
       "      <th>146</th>\n",
       "      <td>39</td>\n",
       "      <td>4.4</td>\n",
       "      <td>3.0</td>\n",
       "      <td>1.3</td>\n",
       "      <td>0.2</td>\n",
       "      <td>Iris-setosa</td>\n",
       "    </tr>\n",
       "    <tr>\n",
       "      <th>147</th>\n",
       "      <td>119</td>\n",
       "      <td>7.7</td>\n",
       "      <td>2.6</td>\n",
       "      <td>6.9</td>\n",
       "      <td>2.3</td>\n",
       "      <td>Iris-virginica</td>\n",
       "    </tr>\n",
       "    <tr>\n",
       "      <th>148</th>\n",
       "      <td>62</td>\n",
       "      <td>5.9</td>\n",
       "      <td>3.0</td>\n",
       "      <td>4.2</td>\n",
       "      <td>1.5</td>\n",
       "      <td>Iris-versicolor</td>\n",
       "    </tr>\n",
       "    <tr>\n",
       "      <th>149</th>\n",
       "      <td>95</td>\n",
       "      <td>5.6</td>\n",
       "      <td>2.7</td>\n",
       "      <td>4.2</td>\n",
       "      <td>1.3</td>\n",
       "      <td>Iris-versicolor</td>\n",
       "    </tr>\n",
       "  </tbody>\n",
       "</table>\n",
       "<p>150 rows × 6 columns</p>\n",
       "</div>"
      ],
      "text/plain": [
       "      Id  SepalLengthCm  SepalWidthCm  PetalLengthCm  PetalWidthCm  \\\n",
       "0     79            6.0           2.9            4.5           1.5   \n",
       "1    107            4.9           2.5            4.5           1.7   \n",
       "2     69            6.2           2.2            4.5           1.5   \n",
       "3     10            4.9           3.1            1.5           0.1   \n",
       "4     27            5.0           3.4            1.6           0.4   \n",
       "..   ...            ...           ...            ...           ...   \n",
       "145   83            5.8           2.7            3.9           1.2   \n",
       "146   39            4.4           3.0            1.3           0.2   \n",
       "147  119            7.7           2.6            6.9           2.3   \n",
       "148   62            5.9           3.0            4.2           1.5   \n",
       "149   95            5.6           2.7            4.2           1.3   \n",
       "\n",
       "             Species  \n",
       "0    Iris-versicolor  \n",
       "1     Iris-virginica  \n",
       "2    Iris-versicolor  \n",
       "3        Iris-setosa  \n",
       "4        Iris-setosa  \n",
       "..               ...  \n",
       "145  Iris-versicolor  \n",
       "146      Iris-setosa  \n",
       "147   Iris-virginica  \n",
       "148  Iris-versicolor  \n",
       "149  Iris-versicolor  \n",
       "\n",
       "[150 rows x 6 columns]"
      ]
     },
     "execution_count": 21,
     "metadata": {},
     "output_type": "execute_result"
    }
   ],
   "source": [
    "iris = pd.read_csv(\"Iris.csv\")\n",
    "# randomize the data\n",
    "iris = iris.sample(frac=1).reset_index(drop=True)\n",
    "iris"
   ]
  },
  {
   "cell_type": "code",
   "execution_count": 22,
   "metadata": {},
   "outputs": [
    {
     "data": {
      "text/plain": [
       "array([[6. , 2.9, 4.5, 1.5],\n",
       "       [4.9, 2.5, 4.5, 1.7],\n",
       "       [6.2, 2.2, 4.5, 1.5],\n",
       "       [4.9, 3.1, 1.5, 0.1],\n",
       "       [5. , 3.4, 1.6, 0.4]])"
      ]
     },
     "execution_count": 22,
     "metadata": {},
     "output_type": "execute_result"
    }
   ],
   "source": [
    "X = iris[['SepalLengthCm','SepalWidthCm', 'PetalLengthCm','PetalWidthCm']]\n",
    "# converting into numpy array\n",
    "X = np.array(X)\n",
    "X[:5]"
   ]
  },
  {
   "cell_type": "code",
   "execution_count": 23,
   "metadata": {},
   "outputs": [],
   "source": [
    "# hot_encode = pd.concat([iris, pd.get_dummies(iris['Species'], prefix = 'Species')], axis = 1)\n",
    "# hot_encode = hot_encode.drop('Species', axis = 1)\n",
    "# hot_encode[:5]"
   ]
  },
  {
   "cell_type": "code",
   "execution_count": 29,
   "metadata": {},
   "outputs": [
    {
     "name": "stderr",
     "output_type": "stream",
     "text": [
      "c:\\Users\\Ashif\\anaconda3\\envs\\python_3.12\\Lib\\site-packages\\sklearn\\preprocessing\\_encoders.py:975: FutureWarning: `sparse` was renamed to `sparse_output` in version 1.2 and will be removed in 1.4. `sparse_output` is ignored unless you leave `sparse` to its default value.\n",
      "  warnings.warn(\n"
     ]
    },
    {
     "data": {
      "text/plain": [
       "array([[0., 1., 0.],\n",
       "       [0., 0., 1.],\n",
       "       [0., 1., 0.],\n",
       "       [1., 0., 0.],\n",
       "       [1., 0., 0.]])"
      ]
     },
     "execution_count": 29,
     "metadata": {},
     "output_type": "execute_result"
    }
   ],
   "source": [
    "from sklearn.preprocessing import OneHotEncoder\n",
    "\n",
    "# Create an encoder to convert categorical labels to one-hot encoded vectors\n",
    "one_hot_encoder = OneHotEncoder(sparse = False)  # Explicitly set sparse to False for dense output\n",
    "\n",
    "# Extract the species labels from the iris dataset\n",
    "Y = iris.Species\n",
    "\n",
    "# Prepare the labels for encoding\n",
    "Y = iris.Species  # Reshape into a 2D array\n",
    "\n",
    "# Learn the unique labels and transform the data into one-hot encoded vectors\n",
    "Y = one_hot_encoder.fit_transform(np.array(Y).reshape(-1,1))\n",
    "\n",
    "# Print the first 5 rows of the encoded labels\n",
    "Y[:5]"
   ]
  },
  {
   "cell_type": "markdown",
   "metadata": {},
   "source": [
    "##### spliting data into train, test and validation"
   ]
  },
  {
   "cell_type": "code",
   "execution_count": 30,
   "metadata": {},
   "outputs": [],
   "source": [
    "from sklearn.model_selection import train_test_split\n",
    "X_train, X_test, Y_train, Y_test = train_test_split(X, Y, test_size = 0.15)\n",
    "X_train, X_val, Y_train, Y_val = train_test_split(X_train, Y_train, test_size = 0.1)"
   ]
  },
  {
   "cell_type": "markdown",
   "metadata": {},
   "source": [
    "1. Function Definition:\n",
    "\n",
    "    def initialize_weights(node_counts):: Defines a function named initialize_weights that takes a list of node counts as input.\n",
    "\n",
    "2. Function Purpose:\n",
    "\n",
    "    The function initializes weights for a neural network with random values between -1 and 1.\n",
    "\n",
    "3. Arguments:\n",
    "\n",
    "    node_counts: A list containing the number of nodes in each layer of the neural network.\n",
    "\n",
    "4. Returns:\n",
    "\n",
    "    A list of weight matrices, one for each layer (except the input layer), representing the connections between nodes in adjacent layers.\n",
    "\n",
    "5. Code Steps:\n",
    "\n",
    "    - Calculate Number of Layers:\n",
    "        - number_of_layers = len(node_counts): Determines the total number of layers in the network based on the length of the node_counts list.\n",
    "    - Initialize List for Weights:\n",
    "        - weights = []: Creates an empty list to store the generated weight matrices.\n",
    "    - Loop Through Layers (Except Input):\n",
    "        - for layer_index in range(1, number_of_layers):: Iterates through each layer, starting from the second layer (index 1) to avoid the input layer.\n",
    "            - current_layer_nodes = node_counts[layer_index]: Retrieves the number of nodes in the current layer.\n",
    "            - previous_layer_nodes = node_counts[layer_index - 1]: Retrieves the number of nodes in the previous layer.\n",
    "            - Create Weight Matrix:\n",
    "                - weight_matrix = np.random.uniform(-1, 1, size=(current_layer_nodes, previous_layer_nodes + 1)): Creates a matrix of random values between -1 and 1, with dimensions matching the number of nodes in the current and previous layers. The extra column is for bias weights.\n",
    "                - weight_matrix = np.matrix(weight_matrix): Converts the matrix to a NumPy matrix for compatibility.\n",
    "            - Append Weight Matrix:\n",
    "                - weights.append(weight_matrix): Adds the generated weight matrix to the weights list.\n",
    "    - Return Weights:\n",
    "        - return weights: Returns the list of weight matrices as the function's output.\n",
    "\n",
    "Key Points:\n",
    "\n",
    "    This function is essential for initializing weights in neural networks before training.\n",
    "    It ensures that weights start with random values to avoid bias and allow the network to learn during training.\n",
    "    The weights are crucial for determining the strength of connections between nodes and how signals propagate through the network."
   ]
  },
  {
   "cell_type": "code",
   "execution_count": 31,
   "metadata": {},
   "outputs": [],
   "source": [
    "def initialize_weights(node_counts):\n",
    "    \"\"\"\n",
    "    Initializes weights for a neural network with random values between -1 and 1.\n",
    "\n",
    "    Args:\n",
    "        node_counts (list): A list containing the number of nodes in each layer.\n",
    "\n",
    "    Returns:\n",
    "        list: A list of weight matrices, one for each layer (except the input layer).\n",
    "    \"\"\"\n",
    "\n",
    "    number_of_layers = len(node_counts)\n",
    "    weights = []\n",
    "\n",
    "    # Create weight matrices for each layer (except the input layer)\n",
    "    for layer_index in range(1, number_of_layers):\n",
    "        current_layer_nodes = node_counts[layer_index]\n",
    "        previous_layer_nodes = node_counts[layer_index - 1]\n",
    "\n",
    "        # Initialize weights with random values\n",
    "        weight_matrix = np.random.uniform(-1, 1, size=(current_layer_nodes, previous_layer_nodes + 1))\n",
    "\n",
    "        # Convert to a NumPy matrix for compatibility\n",
    "        weight_matrix = np.matrix(weight_matrix)\n",
    "\n",
    "        weights.append(weight_matrix)\n",
    "\n",
    "    return weights\n"
   ]
  },
  {
   "cell_type": "code",
   "execution_count": null,
   "metadata": {},
   "outputs": [],
   "source": []
  }
 ],
 "metadata": {
  "kernelspec": {
   "display_name": "base",
   "language": "python",
   "name": "python3"
  },
  "language_info": {
   "codemirror_mode": {
    "name": "ipython",
    "version": 3
   },
   "file_extension": ".py",
   "mimetype": "text/x-python",
   "name": "python",
   "nbconvert_exporter": "python",
   "pygments_lexer": "ipython3",
   "version": "3.12.0"
  }
 },
 "nbformat": 4,
 "nbformat_minor": 2
}
